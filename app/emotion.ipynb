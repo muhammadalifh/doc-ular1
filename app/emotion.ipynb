{
  "nbformat": 4,
  "nbformat_minor": 0,
  "metadata": {
    "colab": {
      "provenance": []
    },
    "kernelspec": {
      "name": "python3",
      "display_name": "Python 3"
    },
    "language_info": {
      "name": "python"
    },
    "accelerator": "GPU",
    "gpuClass": "standard"
  },
  "cells": [
    {
      "cell_type": "code",
      "execution_count": null,
      "metadata": {
        "colab": {
          "base_uri": "https://localhost:8080/"
        },
        "id": "qyiJW0oPF3iw",
        "outputId": "2fe9edbe-a7b2-4fad-82ac-eb6e9be8bd35"
      },
      "outputs": [
        {
          "output_type": "stream",
          "name": "stdout",
          "text": [
            "Mounted at /content/drive/\n"
          ]
        }
      ],
      "source": [
        "from google.colab import drive\n",
        "drive.mount('/content/drive/')"
      ]
    },
    {
      "cell_type": "code",
      "source": [
        "import pandas as pd\n",
        "import numpy as np\n",
        "import matplotlib.pyplot as plt\n",
        "\n",
        "import cv2 as cv\n",
        "import tensorflow as tf\n",
        "import keras\n",
        "\n",
        "from keras.preprocessing import image\n",
        "from keras.models import Sequential \n",
        "from keras.optimizers import Adam\n",
        "from keras.layers import Conv2D, MaxPool2D, Flatten,Dense,Dropout,BatchNormalization, Activation, MaxPooling2D\n",
        "from keras.preprocessing.image import ImageDataGenerator\n",
        "from keras.callbacks import ModelCheckpoint\n",
        "from keras.optimizers import *"
      ],
      "metadata": {
        "id": "rmmUylwaGAHd"
      },
      "execution_count": null,
      "outputs": []
    },
    {
      "cell_type": "code",
      "source": [
        "data = pd.read_csv('/content/drive/MyDrive/dataset/emotion/fer2013.csv')\n",
        "data.head()"
      ],
      "metadata": {
        "colab": {
          "base_uri": "https://localhost:8080/",
          "height": 206
        },
        "id": "fBpNaE2OGXJW",
        "outputId": "0d8eb5e0-8b60-4255-9b70-2e7b2c582353"
      },
      "execution_count": null,
      "outputs": [
        {
          "output_type": "execute_result",
          "data": {
            "text/plain": [
              "   emotion                                             pixels     Usage\n",
              "0        0  70 80 82 72 58 58 60 63 54 58 60 48 89 115 121...  Training\n",
              "1        0  151 150 147 155 148 133 111 140 170 174 182 15...  Training\n",
              "2        2  231 212 156 164 174 138 161 173 182 200 106 38...  Training\n",
              "3        4  24 32 36 30 32 23 19 20 30 41 21 22 32 34 21 1...  Training\n",
              "4        6  4 0 0 0 0 0 0 0 0 0 0 0 3 15 23 28 48 50 58 84...  Training"
            ],
            "text/html": [
              "\n",
              "  <div id=\"df-45cd0e41-a3d6-4e32-8fae-d72d87367d76\">\n",
              "    <div class=\"colab-df-container\">\n",
              "      <div>\n",
              "<style scoped>\n",
              "    .dataframe tbody tr th:only-of-type {\n",
              "        vertical-align: middle;\n",
              "    }\n",
              "\n",
              "    .dataframe tbody tr th {\n",
              "        vertical-align: top;\n",
              "    }\n",
              "\n",
              "    .dataframe thead th {\n",
              "        text-align: right;\n",
              "    }\n",
              "</style>\n",
              "<table border=\"1\" class=\"dataframe\">\n",
              "  <thead>\n",
              "    <tr style=\"text-align: right;\">\n",
              "      <th></th>\n",
              "      <th>emotion</th>\n",
              "      <th>pixels</th>\n",
              "      <th>Usage</th>\n",
              "    </tr>\n",
              "  </thead>\n",
              "  <tbody>\n",
              "    <tr>\n",
              "      <th>0</th>\n",
              "      <td>0</td>\n",
              "      <td>70 80 82 72 58 58 60 63 54 58 60 48 89 115 121...</td>\n",
              "      <td>Training</td>\n",
              "    </tr>\n",
              "    <tr>\n",
              "      <th>1</th>\n",
              "      <td>0</td>\n",
              "      <td>151 150 147 155 148 133 111 140 170 174 182 15...</td>\n",
              "      <td>Training</td>\n",
              "    </tr>\n",
              "    <tr>\n",
              "      <th>2</th>\n",
              "      <td>2</td>\n",
              "      <td>231 212 156 164 174 138 161 173 182 200 106 38...</td>\n",
              "      <td>Training</td>\n",
              "    </tr>\n",
              "    <tr>\n",
              "      <th>3</th>\n",
              "      <td>4</td>\n",
              "      <td>24 32 36 30 32 23 19 20 30 41 21 22 32 34 21 1...</td>\n",
              "      <td>Training</td>\n",
              "    </tr>\n",
              "    <tr>\n",
              "      <th>4</th>\n",
              "      <td>6</td>\n",
              "      <td>4 0 0 0 0 0 0 0 0 0 0 0 3 15 23 28 48 50 58 84...</td>\n",
              "      <td>Training</td>\n",
              "    </tr>\n",
              "  </tbody>\n",
              "</table>\n",
              "</div>\n",
              "      <button class=\"colab-df-convert\" onclick=\"convertToInteractive('df-45cd0e41-a3d6-4e32-8fae-d72d87367d76')\"\n",
              "              title=\"Convert this dataframe to an interactive table.\"\n",
              "              style=\"display:none;\">\n",
              "        \n",
              "  <svg xmlns=\"http://www.w3.org/2000/svg\" height=\"24px\"viewBox=\"0 0 24 24\"\n",
              "       width=\"24px\">\n",
              "    <path d=\"M0 0h24v24H0V0z\" fill=\"none\"/>\n",
              "    <path d=\"M18.56 5.44l.94 2.06.94-2.06 2.06-.94-2.06-.94-.94-2.06-.94 2.06-2.06.94zm-11 1L8.5 8.5l.94-2.06 2.06-.94-2.06-.94L8.5 2.5l-.94 2.06-2.06.94zm10 10l.94 2.06.94-2.06 2.06-.94-2.06-.94-.94-2.06-.94 2.06-2.06.94z\"/><path d=\"M17.41 7.96l-1.37-1.37c-.4-.4-.92-.59-1.43-.59-.52 0-1.04.2-1.43.59L10.3 9.45l-7.72 7.72c-.78.78-.78 2.05 0 2.83L4 21.41c.39.39.9.59 1.41.59.51 0 1.02-.2 1.41-.59l7.78-7.78 2.81-2.81c.8-.78.8-2.07 0-2.86zM5.41 20L4 18.59l7.72-7.72 1.47 1.35L5.41 20z\"/>\n",
              "  </svg>\n",
              "      </button>\n",
              "      \n",
              "  <style>\n",
              "    .colab-df-container {\n",
              "      display:flex;\n",
              "      flex-wrap:wrap;\n",
              "      gap: 12px;\n",
              "    }\n",
              "\n",
              "    .colab-df-convert {\n",
              "      background-color: #E8F0FE;\n",
              "      border: none;\n",
              "      border-radius: 50%;\n",
              "      cursor: pointer;\n",
              "      display: none;\n",
              "      fill: #1967D2;\n",
              "      height: 32px;\n",
              "      padding: 0 0 0 0;\n",
              "      width: 32px;\n",
              "    }\n",
              "\n",
              "    .colab-df-convert:hover {\n",
              "      background-color: #E2EBFA;\n",
              "      box-shadow: 0px 1px 2px rgba(60, 64, 67, 0.3), 0px 1px 3px 1px rgba(60, 64, 67, 0.15);\n",
              "      fill: #174EA6;\n",
              "    }\n",
              "\n",
              "    [theme=dark] .colab-df-convert {\n",
              "      background-color: #3B4455;\n",
              "      fill: #D2E3FC;\n",
              "    }\n",
              "\n",
              "    [theme=dark] .colab-df-convert:hover {\n",
              "      background-color: #434B5C;\n",
              "      box-shadow: 0px 1px 3px 1px rgba(0, 0, 0, 0.15);\n",
              "      filter: drop-shadow(0px 1px 2px rgba(0, 0, 0, 0.3));\n",
              "      fill: #FFFFFF;\n",
              "    }\n",
              "  </style>\n",
              "\n",
              "      <script>\n",
              "        const buttonEl =\n",
              "          document.querySelector('#df-45cd0e41-a3d6-4e32-8fae-d72d87367d76 button.colab-df-convert');\n",
              "        buttonEl.style.display =\n",
              "          google.colab.kernel.accessAllowed ? 'block' : 'none';\n",
              "\n",
              "        async function convertToInteractive(key) {\n",
              "          const element = document.querySelector('#df-45cd0e41-a3d6-4e32-8fae-d72d87367d76');\n",
              "          const dataTable =\n",
              "            await google.colab.kernel.invokeFunction('convertToInteractive',\n",
              "                                                     [key], {});\n",
              "          if (!dataTable) return;\n",
              "\n",
              "          const docLinkHtml = 'Like what you see? Visit the ' +\n",
              "            '<a target=\"_blank\" href=https://colab.research.google.com/notebooks/data_table.ipynb>data table notebook</a>'\n",
              "            + ' to learn more about interactive tables.';\n",
              "          element.innerHTML = '';\n",
              "          dataTable['output_type'] = 'display_data';\n",
              "          await google.colab.output.renderOutput(dataTable, element);\n",
              "          const docLink = document.createElement('div');\n",
              "          docLink.innerHTML = docLinkHtml;\n",
              "          element.appendChild(docLink);\n",
              "        }\n",
              "      </script>\n",
              "    </div>\n",
              "  </div>\n",
              "  "
            ]
          },
          "metadata": {},
          "execution_count": 3
        }
      ]
    },
    {
      "cell_type": "code",
      "source": [
        "data.shape"
      ],
      "metadata": {
        "colab": {
          "base_uri": "https://localhost:8080/"
        },
        "id": "EB0ZTWoBJAEN",
        "outputId": "4a45d640-b2a3-43bd-b7d3-21b0018890a8"
      },
      "execution_count": null,
      "outputs": [
        {
          "output_type": "execute_result",
          "data": {
            "text/plain": [
              "(35887, 3)"
            ]
          },
          "metadata": {},
          "execution_count": 4
        }
      ]
    },
    {
      "cell_type": "code",
      "source": [
        "data['emotion'].unique()"
      ],
      "metadata": {
        "colab": {
          "base_uri": "https://localhost:8080/"
        },
        "id": "tfl0b4IaJBRN",
        "outputId": "b984ec3a-f64b-434d-b1ff-d6a7234650cb"
      },
      "execution_count": null,
      "outputs": [
        {
          "output_type": "execute_result",
          "data": {
            "text/plain": [
              "array([0, 2, 4, 6, 3, 5, 1])"
            ]
          },
          "metadata": {},
          "execution_count": 5
        }
      ]
    },
    {
      "cell_type": "code",
      "source": [
        "len(data.iloc[0]['pixels'].split())"
      ],
      "metadata": {
        "colab": {
          "base_uri": "https://localhost:8080/"
        },
        "id": "7CyVbIqSK75W",
        "outputId": "6dd58b85-5df5-42d9-b157-d6fada18d585"
      },
      "execution_count": null,
      "outputs": [
        {
          "output_type": "execute_result",
          "data": {
            "text/plain": [
              "2304"
            ]
          },
          "metadata": {},
          "execution_count": 6
        }
      ]
    },
    {
      "cell_type": "code",
      "source": [
        "label_map = ['Marah', 'Bosan', 'Malas', 'Senang', 'Sedih', 'Terkejut']"
      ],
      "metadata": {
        "id": "TkQkzF2HJ7pD"
      },
      "execution_count": null,
      "outputs": []
    },
    {
      "cell_type": "code",
      "source": [
        "data = data[data.emotion != 1]"
      ],
      "metadata": {
        "id": "vY41gd9KMPHd"
      },
      "execution_count": null,
      "outputs": []
    },
    {
      "cell_type": "code",
      "source": [
        "data['emotion'].nunique()"
      ],
      "metadata": {
        "colab": {
          "base_uri": "https://localhost:8080/"
        },
        "id": "MurbuGrSMy28",
        "outputId": "1b885dc4-9253-4380-9a38-69a1b728a151"
      },
      "execution_count": null,
      "outputs": [
        {
          "output_type": "execute_result",
          "data": {
            "text/plain": [
              "6"
            ]
          },
          "metadata": {},
          "execution_count": 9
        }
      ]
    },
    {
      "cell_type": "markdown",
      "source": [
        "0 = Marah\n",
        "\n",
        "1 = Disgust //yang ini dihapus\n",
        "\n",
        "2 = Malas\n",
        "\n",
        "3 = Senang\n",
        "\n",
        "4 = Sedih\n",
        "\n",
        "5 = Terkejut\n",
        "\n",
        "6 = Bosan"
      ],
      "metadata": {
        "id": "EqPtSDOnJoON"
      }
    },
    {
      "cell_type": "code",
      "source": [
        "data['emotion'].value_counts()"
      ],
      "metadata": {
        "colab": {
          "base_uri": "https://localhost:8080/"
        },
        "id": "oMB4gVbqNKir",
        "outputId": "d7558ecc-e72a-4150-fef1-df1de38a99da"
      },
      "execution_count": null,
      "outputs": [
        {
          "output_type": "execute_result",
          "data": {
            "text/plain": [
              "3    8989\n",
              "6    6198\n",
              "4    6077\n",
              "2    5121\n",
              "0    4953\n",
              "5    4002\n",
              "Name: emotion, dtype: int64"
            ]
          },
          "metadata": {},
          "execution_count": 10
        }
      ]
    },
    {
      "cell_type": "code",
      "source": [
        "image = data.iloc[0]['pixels'].split()"
      ],
      "metadata": {
        "id": "mdpfOojTMTy6"
      },
      "execution_count": null,
      "outputs": []
    },
    {
      "cell_type": "code",
      "source": [
        "image = [int(i) for i in image]"
      ],
      "metadata": {
        "id": "qqw8HbzCMYsj"
      },
      "execution_count": null,
      "outputs": []
    },
    {
      "cell_type": "code",
      "source": [
        "image = np.array(image)"
      ],
      "metadata": {
        "id": "z_UeI3eWMakS"
      },
      "execution_count": null,
      "outputs": []
    },
    {
      "cell_type": "code",
      "source": [
        "image = image.reshape(48,48)"
      ],
      "metadata": {
        "id": "95JeuL0cMdi1"
      },
      "execution_count": null,
      "outputs": []
    },
    {
      "cell_type": "code",
      "source": [
        "X = []\n",
        "y = []\n",
        "\n",
        "def getData(path):\n",
        "    Marah = 0\n",
        "    Malas = 0\n",
        "    Sedih = 0\n",
        "    Senang = 0\n",
        "    Terkejut = 0\n",
        "    Bosan = 0\n",
        "    data = pd.read_csv(path)\n",
        "    \n",
        "    X = []\n",
        "    y = []    \n",
        "    \n",
        "    for i in range(len(data)):\n",
        "        if data.iloc[i]['emotion'] != 1:\n",
        "            if data.iloc[i]['emotion'] == 0:\n",
        "                if Marah <= 4500:            \n",
        "                    y.append(data.iloc[i]['emotion'])\n",
        "                    im = data.iloc[i]['pixels']\n",
        "                    im = [int(x) for x in im.split()]\n",
        "                    X.append(im)\n",
        "                    Marah += 1\n",
        "                else:\n",
        "                    pass\n",
        "                \n",
        "            if data.iloc[i]['emotion'] == 2:\n",
        "                if Malas <= 5000:            \n",
        "                    y.append(data.iloc[i]['emotion'])\n",
        "                    im = data.iloc[i]['pixels']\n",
        "                    im = [int(x) for x in im.split()]\n",
        "                    X.append(im)\n",
        "                    Malas += 1\n",
        "                else:\n",
        "                    pass\n",
        "                \n",
        "            if data.iloc[i]['emotion'] == 3:\n",
        "                if Senang <= 8500:            \n",
        "                    y.append(data.iloc[i]['emotion'])\n",
        "                    im = data.iloc[i]['pixels']\n",
        "                    im = [int(x) for x in im.split()]\n",
        "                    X.append(im)\n",
        "                    Senang += 1\n",
        "                else:\n",
        "                    pass\n",
        "                \n",
        "            if data.iloc[i]['emotion'] == 4:\n",
        "                if Sedih <= 6000:            \n",
        "                    y.append(data.iloc[i]['emotion'])\n",
        "                    im = data.iloc[i]['pixels']\n",
        "                    im = [int(x) for x in im.split()]\n",
        "                    X.append(im)\n",
        "                    Sedih += 1\n",
        "                else:\n",
        "                    pass\n",
        "                \n",
        "            if data.iloc[i]['emotion'] == 5:\n",
        "                if Terkejut <= 4000:            \n",
        "                    y.append(data.iloc[i]['emotion'])\n",
        "                    im = data.iloc[i]['pixels']\n",
        "                    im = [int(x) for x in im.split()]\n",
        "                    X.append(im)\n",
        "                    Terkejut += 1\n",
        "                else:\n",
        "                    pass\n",
        "                \n",
        "            if data.iloc[i]['emotion'] == 6:\n",
        "                if Bosan <= 6000:            \n",
        "                    y.append(data.iloc[i]['emotion'])\n",
        "                    im = data.iloc[i]['pixels']\n",
        "                    im = [int(x) for x in im.split()]\n",
        "                    X.append(im)\n",
        "                    Bosan += 1\n",
        "                else:\n",
        "                    pass\n",
        "\n",
        "    return X, y  "
      ],
      "metadata": {
        "id": "xrMUN-XqMqQe"
      },
      "execution_count": null,
      "outputs": []
    },
    {
      "cell_type": "code",
      "source": [
        "X, y = getData('/content/drive/MyDrive/dataset/emotion/fer2013.csv')"
      ],
      "metadata": {
        "id": "2X1VvDpBJ85D"
      },
      "execution_count": null,
      "outputs": []
    },
    {
      "cell_type": "code",
      "source": [
        "np.unique(y, return_counts=True)"
      ],
      "metadata": {
        "colab": {
          "base_uri": "https://localhost:8080/"
        },
        "id": "6uNHZWRMM-iR",
        "outputId": "b5f7a1c8-0397-4c30-c6a0-0e7a410c3474"
      },
      "execution_count": null,
      "outputs": [
        {
          "output_type": "execute_result",
          "data": {
            "text/plain": [
              "(array([0, 2, 3, 4, 5, 6]), array([4501, 5001, 8501, 6001, 4001, 6001]))"
            ]
          },
          "metadata": {},
          "execution_count": 17
        }
      ]
    },
    {
      "cell_type": "code",
      "source": [
        "X = np.array(X)/255.0\n",
        "y = np.array(y)"
      ],
      "metadata": {
        "id": "q2zwhLmdN3kP"
      },
      "execution_count": null,
      "outputs": []
    },
    {
      "cell_type": "code",
      "source": [
        "y1 = []\n",
        "for i in y:\n",
        "    if i != 6:\n",
        "        y1.append(i)\n",
        "        \n",
        "    else:\n",
        "        y1.append(1)"
      ],
      "metadata": {
        "id": "x9qa3F7cOHKc"
      },
      "execution_count": null,
      "outputs": []
    },
    {
      "cell_type": "code",
      "source": [
        "np.unique(y1, return_counts=True)"
      ],
      "metadata": {
        "colab": {
          "base_uri": "https://localhost:8080/"
        },
        "id": "xfDeEPmpOTPh",
        "outputId": "ba0133bd-8ad7-477d-9d5f-c24639b5f1ae"
      },
      "execution_count": null,
      "outputs": [
        {
          "output_type": "execute_result",
          "data": {
            "text/plain": [
              "(array([0, 1, 2, 3, 4, 5]), array([4501, 6001, 5001, 8501, 6001, 4001]))"
            ]
          },
          "metadata": {},
          "execution_count": 20
        }
      ]
    },
    {
      "cell_type": "code",
      "source": [
        "for i in range(2):\n",
        "    random_img = np.random.randint((1), 24000, 1)[0]\n",
        "    plt.figure()\n",
        "    plt.imshow(X[random_img].reshape(48,48), cmap='gray')\n",
        "    plt.xlabel(label_map[y1[random_img]])"
      ],
      "metadata": {
        "colab": {
          "base_uri": "https://localhost:8080/",
          "height": 545
        },
        "id": "Gr68FFCbOWk4",
        "outputId": "ff4bcd6a-ff9c-4974-eef1-924ac26afaca"
      },
      "execution_count": null,
      "outputs": [
        {
          "output_type": "display_data",
          "data": {
            "text/plain": [
              "<Figure size 432x288 with 1 Axes>"
            ],
            "image/png": "[encoded data removed]"
          },
          "metadata": {
            "needs_background": "light"
          }
        },
        {
          "output_type": "display_data",
          "data": {
            "text/plain": [
              "<Figure size 432x288 with 1 Axes>"
            ],
            "image/png": "[encoded data removed]"
          },
          "metadata": {
            "needs_background": "light"
          }
        }
      ]
    },
    {
      "cell_type": "code",
      "source": [
        "X = X.reshape(len(X), 48, 48, 1)"
      ],
      "metadata": {
        "id": "TWrpVJQlOlqg"
      },
      "execution_count": null,
      "outputs": []
    },
    {
      "cell_type": "code",
      "source": [
        "from keras.utils import to_categorical\n",
        "y2 = to_categorical(y1, num_classes=6)"
      ],
      "metadata": {
        "id": "XR9K_NIBOrWd"
      },
      "execution_count": null,
      "outputs": []
    },
    {
      "cell_type": "markdown",
      "source": [
        "CNN ARCHITECTURE"
      ],
      "metadata": {
        "id": "5Ez6Ct3hO5Mm"
      }
    },
    {
      "cell_type": "code",
      "source": [
        "model = Sequential()\n",
        "\n",
        "model.add(Conv2D(64,(5,5),padding = 'same',input_shape = (48,48,1)))\n",
        "model.add(BatchNormalization())\n",
        "model.add(Activation('relu'))\n",
        "model.add(MaxPooling2D(pool_size = (2,2)))\n",
        "model.add(Dropout(0.25))\n",
        "\n",
        "model.add(Conv2D(128,(5,5),padding = 'same'))\n",
        "model.add(BatchNormalization())\n",
        "model.add(Activation('relu'))\n",
        "model.add(MaxPooling2D(pool_size = (2,2)))\n",
        "model.add(Dropout (0.25))\n",
        "\n",
        "model.add(Conv2D(512,(5,5),padding = 'same'))\n",
        "model.add(BatchNormalization())\n",
        "model.add(Activation('relu'))\n",
        "model.add(MaxPooling2D(pool_size = (2,2)))\n",
        "model.add(Dropout (0.25))\n",
        "\n",
        "model.add(Flatten())\n",
        "\n",
        "model.add(Dense(256))\n",
        "model.add(BatchNormalization())\n",
        "model.add(Activation('relu'))\n",
        "model.add(Dropout(0.25))\n",
        "\n",
        "model.add(Dense(128))\n",
        "model.add(BatchNormalization())\n",
        "model.add(Activation('relu'))\n",
        "model.add(Dropout(0.25))\n",
        "\n",
        "model.add(Dense(6, activation='softmax'))"
      ],
      "metadata": {
        "id": "FKkfvoCSOwC-"
      },
      "execution_count": null,
      "outputs": []
    },
    {
      "cell_type": "code",
      "source": [
        "model.compile(loss='categorical_crossentropy', metrics=['accuracy'], optimizer=Adam(learning_rate=0.0001, decay=1e-6))\n",
        "\n",
        "model.summary()"
      ],
      "metadata": {
        "colab": {
          "base_uri": "https://localhost:8080/"
        },
        "id": "MpUYKMl4PgIZ",
        "outputId": "cfec40eb-9a83-433c-fc45-d3e089cc667d"
      },
      "execution_count": null,
      "outputs": [
        {
          "output_type": "stream",
          "name": "stdout",
          "text": [
            "Model: \"sequential\"\n",
            "_________________________________________________________________\n",
            " Layer (type)                Output Shape              Param #   \n",
            "=================================================================\n",
            " conv2d (Conv2D)             (None, 48, 48, 64)        1664      \n",
            "                                                                 \n",
            " batch_normalization (BatchN  (None, 48, 48, 64)       256       \n",
            " ormalization)                                                   \n",
            "                                                                 \n",
            " activation (Activation)     (None, 48, 48, 64)        0         \n",
            "                                                                 \n",
            " max_pooling2d (MaxPooling2D  (None, 24, 24, 64)       0         \n",
            " )                                                               \n",
            "                                                                 \n",
            " dropout (Dropout)           (None, 24, 24, 64)        0         \n",
            "                                                                 \n",
            " conv2d_1 (Conv2D)           (None, 24, 24, 128)       204928    \n",
            "                                                                 \n",
            " batch_normalization_1 (Batc  (None, 24, 24, 128)      512       \n",
            " hNormalization)                                                 \n",
            "                                                                 \n",
            " activation_1 (Activation)   (None, 24, 24, 128)       0         \n",
            "                                                                 \n",
            " max_pooling2d_1 (MaxPooling  (None, 12, 12, 128)      0         \n",
            " 2D)                                                             \n",
            "                                                                 \n",
            " dropout_1 (Dropout)         (None, 12, 12, 128)       0         \n",
            "                                                                 \n",
            " conv2d_2 (Conv2D)           (None, 12, 12, 512)       1638912   \n",
            "                                                                 \n",
            " batch_normalization_2 (Batc  (None, 12, 12, 512)      2048      \n",
            " hNormalization)                                                 \n",
            "                                                                 \n",
            " activation_2 (Activation)   (None, 12, 12, 512)       0         \n",
            "                                                                 \n",
            " max_pooling2d_2 (MaxPooling  (None, 6, 6, 512)        0         \n",
            " 2D)                                                             \n",
            "                                                                 \n",
            " dropout_2 (Dropout)         (None, 6, 6, 512)         0         \n",
            "                                                                 \n",
            " flatten (Flatten)           (None, 18432)             0         \n",
            "                                                                 \n",
            " dense (Dense)               (None, 256)               4718848   \n",
            "                                                                 \n",
            " batch_normalization_3 (Batc  (None, 256)              1024      \n",
            " hNormalization)                                                 \n",
            "                                                                 \n",
            " activation_3 (Activation)   (None, 256)               0         \n",
            "                                                                 \n",
            " dropout_3 (Dropout)         (None, 256)               0         \n",
            "                                                                 \n",
            " dense_1 (Dense)             (None, 128)               32896     \n",
            "                                                                 \n",
            " batch_normalization_4 (Batc  (None, 128)              512       \n",
            " hNormalization)                                                 \n",
            "                                                                 \n",
            " activation_4 (Activation)   (None, 128)               0         \n",
            "                                                                 \n",
            " dropout_4 (Dropout)         (None, 128)               0         \n",
            "                                                                 \n",
            " dense_2 (Dense)             (None, 6)                 774       \n",
            "                                                                 \n",
            "=================================================================\n",
            "Total params: 6,602,374\n",
            "Trainable params: 6,600,198\n",
            "Non-trainable params: 2,176\n",
            "_________________________________________________________________\n"
          ]
        }
      ]
    },
    {
      "cell_type": "code",
      "source": [
        "from keras.callbacks import ModelCheckpoint, EarlyStopping"
      ],
      "metadata": {
        "id": "w7VwUwmYPl_t"
      },
      "execution_count": null,
      "outputs": []
    },
    {
      "cell_type": "code",
      "source": [
        "checkpointer = [EarlyStopping(monitor = 'val_accuracy', verbose = 1, \n",
        "                              restore_best_weights=True,mode='max',patience = 10),\n",
        "                              ModelCheckpoint('cnn_best1.h5',monitor='val_accuracy',verbose=1,\n",
        "                              save_best_only=True,mode='max')]\n",
        "                              \n",
        "history = model.fit(X, \n",
        "                    y2, \n",
        "                    epochs=70, \n",
        "                    batch_size=64, \n",
        "                    callbacks=checkpointer,\n",
        "                    shuffle=True, \n",
        "                    validation_split=0.2)"
      ],
      "metadata": {
        "colab": {
          "base_uri": "https://localhost:8080/"
        },
        "id": "OAr68GqyPzBQ",
        "outputId": "58b1e0ce-3368-4f41-ae0f-5587254056fe"
      },
      "execution_count": null,
      "outputs": [
        {
          "output_type": "stream",
          "name": "stdout",
          "text": [
            "Epoch 1/70\n",
            "426/426 [==============================] - ETA: 0s - loss: 1.8007 - accuracy: 0.2979\n",
            "Epoch 1: val_accuracy improved from -inf to 0.28903, saving model to cnn_best1.h5\n",
            "426/426 [==============================] - 20s 27ms/step - loss: 1.8007 - accuracy: 0.2979 - val_loss: 1.9069 - val_accuracy: 0.2890\n",
            "Epoch 2/70\n",
            "426/426 [==============================] - ETA: 0s - loss: 1.6034 - accuracy: 0.3768\n",
            "Epoch 2: val_accuracy improved from 0.28903 to 0.38621, saving model to cnn_best1.h5\n",
            "426/426 [==============================] - 11s 27ms/step - loss: 1.6034 - accuracy: 0.3768 - val_loss: 1.6066 - val_accuracy: 0.3862\n",
            "Epoch 3/70\n",
            "424/426 [============================>.] - ETA: 0s - loss: 1.4940 - accuracy: 0.4140\n",
            "Epoch 3: val_accuracy improved from 0.38621 to 0.44266, saving model to cnn_best1.h5\n",
            "426/426 [==============================] - 11s 27ms/step - loss: 1.4944 - accuracy: 0.4139 - val_loss: 1.4055 - val_accuracy: 0.4427\n",
            "Epoch 4/70\n",
            "426/426 [==============================] - ETA: 0s - loss: 1.3980 - accuracy: 0.4539\n",
            "Epoch 4: val_accuracy improved from 0.44266 to 0.47868, saving model to cnn_best1.h5\n",
            "426/426 [==============================] - 11s 26ms/step - loss: 1.3980 - accuracy: 0.4539 - val_loss: 1.3235 - val_accuracy: 0.4787\n",
            "Epoch 5/70\n",
            "426/426 [==============================] - ETA: 0s - loss: 1.3336 - accuracy: 0.4771\n",
            "Epoch 5: val_accuracy improved from 0.47868 to 0.49162, saving model to cnn_best1.h5\n",
            "426/426 [==============================] - 11s 26ms/step - loss: 1.3336 - accuracy: 0.4771 - val_loss: 1.2989 - val_accuracy: 0.4916\n",
            "Epoch 6/70\n",
            "426/426 [==============================] - ETA: 0s - loss: 1.2730 - accuracy: 0.5042\n",
            "Epoch 6: val_accuracy did not improve from 0.49162\n",
            "426/426 [==============================] - 11s 25ms/step - loss: 1.2730 - accuracy: 0.5042 - val_loss: 1.5004 - val_accuracy: 0.4556\n",
            "Epoch 7/70\n",
            "426/426 [==============================] - ETA: 0s - loss: 1.2347 - accuracy: 0.5204\n",
            "Epoch 7: val_accuracy improved from 0.49162 to 0.53969, saving model to cnn_best1.h5\n",
            "426/426 [==============================] - 11s 27ms/step - loss: 1.2347 - accuracy: 0.5204 - val_loss: 1.1844 - val_accuracy: 0.5397\n",
            "Epoch 8/70\n",
            "424/426 [============================>.] - ETA: 0s - loss: 1.1893 - accuracy: 0.5408\n",
            "Epoch 8: val_accuracy did not improve from 0.53969\n",
            "426/426 [==============================] - 11s 26ms/step - loss: 1.1890 - accuracy: 0.5409 - val_loss: 1.1929 - val_accuracy: 0.5347\n",
            "Epoch 9/70\n",
            "424/426 [============================>.] - ETA: 0s - loss: 1.1565 - accuracy: 0.5538\n",
            "Epoch 9: val_accuracy improved from 0.53969 to 0.54102, saving model to cnn_best1.h5\n",
            "426/426 [==============================] - 11s 26ms/step - loss: 1.1569 - accuracy: 0.5535 - val_loss: 1.1791 - val_accuracy: 0.5410\n",
            "Epoch 10/70\n",
            "425/426 [============================>.] - ETA: 0s - loss: 1.1176 - accuracy: 0.5712\n",
            "Epoch 10: val_accuracy improved from 0.54102 to 0.54425, saving model to cnn_best1.h5\n",
            "426/426 [==============================] - 11s 26ms/step - loss: 1.1176 - accuracy: 0.5711 - val_loss: 1.1942 - val_accuracy: 0.5443\n",
            "Epoch 11/70\n",
            "424/426 [============================>.] - ETA: 0s - loss: 1.0943 - accuracy: 0.5798\n",
            "Epoch 11: val_accuracy improved from 0.54425 to 0.56836, saving model to cnn_best1.h5\n",
            "426/426 [==============================] - 11s 26ms/step - loss: 1.0943 - accuracy: 0.5797 - val_loss: 1.1205 - val_accuracy: 0.5684\n",
            "Epoch 12/70\n",
            "425/426 [============================>.] - ETA: 0s - loss: 1.0551 - accuracy: 0.5988\n",
            "Epoch 12: val_accuracy did not improve from 0.56836\n",
            "426/426 [==============================] - 11s 26ms/step - loss: 1.0551 - accuracy: 0.5988 - val_loss: 1.1502 - val_accuracy: 0.5557\n",
            "Epoch 13/70\n",
            "424/426 [============================>.] - ETA: 0s - loss: 1.0308 - accuracy: 0.6074\n",
            "Epoch 13: val_accuracy did not improve from 0.56836\n",
            "426/426 [==============================] - 11s 27ms/step - loss: 1.0307 - accuracy: 0.6073 - val_loss: 1.2199 - val_accuracy: 0.5498\n",
            "Epoch 14/70\n",
            "425/426 [============================>.] - ETA: 0s - loss: 0.9965 - accuracy: 0.6236\n",
            "Epoch 14: val_accuracy improved from 0.56836 to 0.57601, saving model to cnn_best1.h5\n",
            "426/426 [==============================] - 12s 28ms/step - loss: 0.9964 - accuracy: 0.6237 - val_loss: 1.0958 - val_accuracy: 0.5760\n",
            "Epoch 15/70\n",
            "426/426 [==============================] - ETA: 0s - loss: 0.9608 - accuracy: 0.6351\n",
            "Epoch 15: val_accuracy did not improve from 0.57601\n",
            "426/426 [==============================] - 12s 27ms/step - loss: 0.9608 - accuracy: 0.6351 - val_loss: 1.1725 - val_accuracy: 0.5579\n",
            "Epoch 16/70\n",
            "424/426 [============================>.] - ETA: 0s - loss: 0.9385 - accuracy: 0.6448\n",
            "Epoch 16: val_accuracy improved from 0.57601 to 0.58424, saving model to cnn_best1.h5\n",
            "426/426 [==============================] - 12s 28ms/step - loss: 0.9386 - accuracy: 0.6448 - val_loss: 1.1060 - val_accuracy: 0.5842\n",
            "Epoch 17/70\n",
            "425/426 [============================>.] - ETA: 0s - loss: 0.9126 - accuracy: 0.6549\n",
            "Epoch 17: val_accuracy did not improve from 0.58424\n",
            "426/426 [==============================] - 11s 26ms/step - loss: 0.9126 - accuracy: 0.6549 - val_loss: 1.1649 - val_accuracy: 0.5653\n",
            "Epoch 18/70\n",
            "426/426 [==============================] - ETA: 0s - loss: 0.8744 - accuracy: 0.6771\n",
            "Epoch 18: val_accuracy improved from 0.58424 to 0.59732, saving model to cnn_best1.h5\n",
            "426/426 [==============================] - 12s 28ms/step - loss: 0.8744 - accuracy: 0.6771 - val_loss: 1.0946 - val_accuracy: 0.5973\n",
            "Epoch 19/70\n",
            "426/426 [==============================] - ETA: 0s - loss: 0.8435 - accuracy: 0.6873\n",
            "Epoch 19: val_accuracy did not improve from 0.59732\n",
            "426/426 [==============================] - 12s 27ms/step - loss: 0.8435 - accuracy: 0.6873 - val_loss: 1.1277 - val_accuracy: 0.5763\n",
            "Epoch 20/70\n",
            "424/426 [============================>.] - ETA: 0s - loss: 0.8165 - accuracy: 0.6952\n",
            "Epoch 20: val_accuracy did not improve from 0.59732\n",
            "426/426 [==============================] - 12s 27ms/step - loss: 0.8163 - accuracy: 0.6953 - val_loss: 1.0964 - val_accuracy: 0.5950\n",
            "Epoch 21/70\n",
            "425/426 [============================>.] - ETA: 0s - loss: 0.7827 - accuracy: 0.7107\n",
            "Epoch 21: val_accuracy improved from 0.59732 to 0.60438, saving model to cnn_best1.h5\n",
            "426/426 [==============================] - 11s 27ms/step - loss: 0.7830 - accuracy: 0.7106 - val_loss: 1.1091 - val_accuracy: 0.6044\n",
            "Epoch 22/70\n",
            "425/426 [============================>.] - ETA: 0s - loss: 0.7686 - accuracy: 0.7126\n",
            "Epoch 22: val_accuracy did not improve from 0.60438\n",
            "426/426 [==============================] - 11s 26ms/step - loss: 0.7687 - accuracy: 0.7125 - val_loss: 1.1163 - val_accuracy: 0.6006\n",
            "Epoch 23/70\n",
            "425/426 [============================>.] - ETA: 0s - loss: 0.7338 - accuracy: 0.7290\n",
            "Epoch 23: val_accuracy did not improve from 0.60438\n",
            "426/426 [==============================] - 12s 28ms/step - loss: 0.7339 - accuracy: 0.7290 - val_loss: 1.1531 - val_accuracy: 0.5954\n",
            "Epoch 24/70\n",
            "425/426 [============================>.] - ETA: 0s - loss: 0.7004 - accuracy: 0.7401\n",
            "Epoch 24: val_accuracy did not improve from 0.60438\n",
            "426/426 [==============================] - 11s 27ms/step - loss: 0.7006 - accuracy: 0.7401 - val_loss: 1.2396 - val_accuracy: 0.5687\n",
            "Epoch 25/70\n",
            "426/426 [==============================] - ETA: 0s - loss: 0.6984 - accuracy: 0.7429\n",
            "Epoch 25: val_accuracy improved from 0.60438 to 0.60512, saving model to cnn_best1.h5\n",
            "426/426 [==============================] - 12s 27ms/step - loss: 0.6984 - accuracy: 0.7429 - val_loss: 1.1067 - val_accuracy: 0.6051\n",
            "Epoch 26/70\n",
            "425/426 [============================>.] - ETA: 0s - loss: 0.6583 - accuracy: 0.7557\n",
            "Epoch 26: val_accuracy did not improve from 0.60512\n",
            "426/426 [==============================] - 11s 27ms/step - loss: 0.6583 - accuracy: 0.7557 - val_loss: 1.2000 - val_accuracy: 0.5842\n",
            "Epoch 27/70\n",
            "424/426 [============================>.] - ETA: 0s - loss: 0.6275 - accuracy: 0.7690\n",
            "Epoch 27: val_accuracy did not improve from 0.60512\n",
            "426/426 [==============================] - 12s 28ms/step - loss: 0.6278 - accuracy: 0.7689 - val_loss: 1.1391 - val_accuracy: 0.5911\n",
            "Epoch 28/70\n",
            "426/426 [==============================] - ETA: 0s - loss: 0.6026 - accuracy: 0.7813\n",
            "Epoch 28: val_accuracy improved from 0.60512 to 0.61570, saving model to cnn_best1.h5\n",
            "426/426 [==============================] - 12s 28ms/step - loss: 0.6026 - accuracy: 0.7813 - val_loss: 1.1128 - val_accuracy: 0.6157\n",
            "Epoch 29/70\n",
            "424/426 [============================>.] - ETA: 0s - loss: 0.5830 - accuracy: 0.7893\n",
            "Epoch 29: val_accuracy improved from 0.61570 to 0.62114, saving model to cnn_best1.h5\n",
            "426/426 [==============================] - 12s 28ms/step - loss: 0.5835 - accuracy: 0.7891 - val_loss: 1.1525 - val_accuracy: 0.6211\n",
            "Epoch 30/70\n",
            "426/426 [==============================] - ETA: 0s - loss: 0.5574 - accuracy: 0.7982\n",
            "Epoch 30: val_accuracy did not improve from 0.62114\n",
            "426/426 [==============================] - 11s 27ms/step - loss: 0.5574 - accuracy: 0.7982 - val_loss: 1.1876 - val_accuracy: 0.6151\n",
            "Epoch 31/70\n",
            "426/426 [==============================] - ETA: 0s - loss: 0.5406 - accuracy: 0.8033\n",
            "Epoch 31: val_accuracy did not improve from 0.62114\n",
            "426/426 [==============================] - 11s 26ms/step - loss: 0.5406 - accuracy: 0.8033 - val_loss: 1.3129 - val_accuracy: 0.5750\n",
            "Epoch 32/70\n",
            "424/426 [============================>.] - ETA: 0s - loss: 0.5233 - accuracy: 0.8091\n",
            "Epoch 32: val_accuracy did not improve from 0.62114\n",
            "426/426 [==============================] - 12s 28ms/step - loss: 0.5232 - accuracy: 0.8093 - val_loss: 1.1823 - val_accuracy: 0.6020\n",
            "Epoch 33/70\n",
            "425/426 [============================>.] - ETA: 0s - loss: 0.4978 - accuracy: 0.8193\n",
            "Epoch 33: val_accuracy did not improve from 0.62114\n",
            "426/426 [==============================] - 11s 27ms/step - loss: 0.4979 - accuracy: 0.8193 - val_loss: 1.1605 - val_accuracy: 0.6116\n",
            "Epoch 34/70\n",
            "424/426 [============================>.] - ETA: 0s - loss: 0.4813 - accuracy: 0.8240\n",
            "Epoch 34: val_accuracy did not improve from 0.62114\n",
            "426/426 [==============================] - 12s 27ms/step - loss: 0.4809 - accuracy: 0.8242 - val_loss: 1.2336 - val_accuracy: 0.6110\n",
            "Epoch 35/70\n",
            "425/426 [============================>.] - ETA: 0s - loss: 0.4541 - accuracy: 0.8349\n",
            "Epoch 35: val_accuracy did not improve from 0.62114\n",
            "426/426 [==============================] - 11s 27ms/step - loss: 0.4542 - accuracy: 0.8349 - val_loss: 1.2319 - val_accuracy: 0.6119\n",
            "Epoch 36/70\n",
            "425/426 [============================>.] - ETA: 0s - loss: 0.4384 - accuracy: 0.8408\n",
            "Epoch 36: val_accuracy did not improve from 0.62114\n",
            "426/426 [==============================] - 11s 27ms/step - loss: 0.4384 - accuracy: 0.8408 - val_loss: 1.1771 - val_accuracy: 0.6173\n",
            "Epoch 37/70\n",
            "426/426 [==============================] - ETA: 0s - loss: 0.4358 - accuracy: 0.8393\n",
            "Epoch 37: val_accuracy did not improve from 0.62114\n",
            "426/426 [==============================] - 11s 27ms/step - loss: 0.4358 - accuracy: 0.8393 - val_loss: 1.2600 - val_accuracy: 0.6120\n",
            "Epoch 38/70\n",
            "426/426 [==============================] - ETA: 0s - loss: 0.4149 - accuracy: 0.8506\n",
            "Epoch 38: val_accuracy did not improve from 0.62114\n",
            "426/426 [==============================] - 12s 28ms/step - loss: 0.4149 - accuracy: 0.8506 - val_loss: 1.2440 - val_accuracy: 0.6167\n",
            "Epoch 39/70\n",
            "425/426 [============================>.] - ETA: 0s - loss: 0.3875 - accuracy: 0.8612Restoring model weights from the end of the best epoch: 29.\n",
            "\n",
            "Epoch 39: val_accuracy did not improve from 0.62114\n",
            "426/426 [==============================] - 12s 28ms/step - loss: 0.3877 - accuracy: 0.8612 - val_loss: 1.3780 - val_accuracy: 0.6038\n",
            "Epoch 39: early stopping\n"
          ]
        }
      ]
    },
    {
      "cell_type": "markdown",
      "source": [
        "akurasi terbaik = 62.11%\n",
        "\n",
        "nama model = cnn_best1.h5"
      ],
      "metadata": {
        "id": "2YaYdmQ6ZDk8"
      }
    },
    {
      "cell_type": "code",
      "source": [
        "def acc_plot(history):\n",
        "  plt.plot(history.history['accuracy'],'r', label='Training Accuracy')\n",
        "  plt.plot(history.history['val_accuracy'],'b', label='Validation Accuracy')\n",
        "  plt.legend()\n",
        "\n",
        "acc_plot(history)"
      ],
      "metadata": {
        "colab": {
          "base_uri": "https://localhost:8080/",
          "height": 265
        },
        "id": "uQbUseZJa2_I",
        "outputId": "81f33fd5-80f7-4e94-f2b2-c15f24f076cc"
      },
      "execution_count": null,
      "outputs": [
        {
          "output_type": "display_data",
          "data": {
            "text/plain": [
              "<Figure size 432x288 with 1 Axes>"
            ],
            "image/png": "[encoded data removed]"
          },
          "metadata": {
            "needs_background": "light"
          }
        }
      ]
    },
    {
      "cell_type": "code",
      "source": [
        "def loss_plot(history):\n",
        "  plt.plot(history.history['loss'],'r', label='Training Loss')\n",
        "  plt.plot(history.history['val_loss'],'b', label='Validation Loss')\n",
        "  plt.legend()\n",
        "\n",
        "loss_plot(history)"
      ],
      "metadata": {
        "id": "epq9CsJabBui",
        "outputId": "ee0c8b9b-ada0-4ab6-ae91-9db166802f3b",
        "colab": {
          "base_uri": "https://localhost:8080/",
          "height": 265
        }
      },
      "execution_count": null,
      "outputs": [
        {
          "output_type": "display_data",
          "data": {
            "text/plain": [
              "<Figure size 432x288 with 1 Axes>"
            ],
            "image/png": "[encoded data removed]"
          },
          "metadata": {
            "needs_background": "light"
          }
        }
      ]
    },
    {
      "cell_type": "code",
      "source": [
        "model_to_json = model.to_json()\n",
        "\n",
        "with open('model.json','w') as json_file :\n",
        "    json_file.write(model_to_json)"
      ],
      "metadata": {
        "id": "0euB2Z27ZLzb"
      },
      "execution_count": null,
      "outputs": []
    },
    {
      "cell_type": "code",
      "source": [],
      "metadata": {
        "id": "-h4u65UeaOSr"
      },
      "execution_count": null,
      "outputs": []
    }
  ]
}